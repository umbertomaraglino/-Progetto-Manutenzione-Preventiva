{
 "cells": [
  {
   "cell_type": "code",
   "execution_count": 2,
   "metadata": {},
   "outputs": [
    {
     "data": {
      "text/html": [
       "<div>\n",
       "<style scoped>\n",
       "    .dataframe tbody tr th:only-of-type {\n",
       "        vertical-align: middle;\n",
       "    }\n",
       "\n",
       "    .dataframe tbody tr th {\n",
       "        vertical-align: top;\n",
       "    }\n",
       "\n",
       "    .dataframe thead th {\n",
       "        text-align: right;\n",
       "    }\n",
       "</style>\n",
       "<table border=\"1\" class=\"dataframe\">\n",
       "  <thead>\n",
       "    <tr style=\"text-align: right;\">\n",
       "      <th></th>\n",
       "      <th>Funzionamento</th>\n",
       "      <th>P1</th>\n",
       "      <th>P2</th>\n",
       "      <th>P3</th>\n",
       "      <th>P4</th>\n",
       "      <th>P5</th>\n",
       "      <th>P6</th>\n",
       "      <th>P7</th>\n",
       "    </tr>\n",
       "  </thead>\n",
       "  <tbody>\n",
       "    <tr>\n",
       "      <th>126105</th>\n",
       "      <td>0</td>\n",
       "      <td>2.000000</td>\n",
       "      <td>2.000000</td>\n",
       "      <td>2.000000</td>\n",
       "      <td>2.000000</td>\n",
       "      <td>2.000000</td>\n",
       "      <td>2.000000</td>\n",
       "      <td>2.000000</td>\n",
       "    </tr>\n",
       "    <tr>\n",
       "      <th>126106</th>\n",
       "      <td>0</td>\n",
       "      <td>2.000000</td>\n",
       "      <td>2.000000</td>\n",
       "      <td>2.000000</td>\n",
       "      <td>2.000000</td>\n",
       "      <td>2.000000</td>\n",
       "      <td>2.000000</td>\n",
       "      <td>2.000000</td>\n",
       "    </tr>\n",
       "    <tr>\n",
       "      <th>126107</th>\n",
       "      <td>0</td>\n",
       "      <td>2.000000</td>\n",
       "      <td>2.000000</td>\n",
       "      <td>2.000000</td>\n",
       "      <td>2.000000</td>\n",
       "      <td>2.000000</td>\n",
       "      <td>2.000000</td>\n",
       "      <td>2.000000</td>\n",
       "    </tr>\n",
       "    <tr>\n",
       "      <th>126108</th>\n",
       "      <td>0</td>\n",
       "      <td>2.000000</td>\n",
       "      <td>2.000000</td>\n",
       "      <td>2.000000</td>\n",
       "      <td>2.000000</td>\n",
       "      <td>2.000000</td>\n",
       "      <td>2.000000</td>\n",
       "      <td>2.000000</td>\n",
       "    </tr>\n",
       "    <tr>\n",
       "      <th>126109</th>\n",
       "      <td>0</td>\n",
       "      <td>2.000000</td>\n",
       "      <td>2.000000</td>\n",
       "      <td>2.000000</td>\n",
       "      <td>2.000000</td>\n",
       "      <td>2.000000</td>\n",
       "      <td>2.000000</td>\n",
       "      <td>2.000000</td>\n",
       "    </tr>\n",
       "    <tr>\n",
       "      <th>...</th>\n",
       "      <td>...</td>\n",
       "      <td>...</td>\n",
       "      <td>...</td>\n",
       "      <td>...</td>\n",
       "      <td>...</td>\n",
       "      <td>...</td>\n",
       "      <td>...</td>\n",
       "      <td>...</td>\n",
       "    </tr>\n",
       "    <tr>\n",
       "      <th>183748</th>\n",
       "      <td>75</td>\n",
       "      <td>2.018495</td>\n",
       "      <td>2.018436</td>\n",
       "      <td>2.016806</td>\n",
       "      <td>2.173387</td>\n",
       "      <td>2.032607</td>\n",
       "      <td>1.948342</td>\n",
       "      <td>2.132867</td>\n",
       "    </tr>\n",
       "    <tr>\n",
       "      <th>183749</th>\n",
       "      <td>75</td>\n",
       "      <td>2.038382</td>\n",
       "      <td>2.043599</td>\n",
       "      <td>2.037118</td>\n",
       "      <td>1.893917</td>\n",
       "      <td>2.074023</td>\n",
       "      <td>2.175365</td>\n",
       "      <td>2.121340</td>\n",
       "    </tr>\n",
       "    <tr>\n",
       "      <th>183750</th>\n",
       "      <td>75</td>\n",
       "      <td>2.047800</td>\n",
       "      <td>2.063726</td>\n",
       "      <td>2.071593</td>\n",
       "      <td>2.289380</td>\n",
       "      <td>2.106856</td>\n",
       "      <td>2.223095</td>\n",
       "      <td>2.192724</td>\n",
       "    </tr>\n",
       "    <tr>\n",
       "      <th>183751</th>\n",
       "      <td>75</td>\n",
       "      <td>2.052519</td>\n",
       "      <td>2.076722</td>\n",
       "      <td>2.075243</td>\n",
       "      <td>1.901218</td>\n",
       "      <td>2.104139</td>\n",
       "      <td>2.003143</td>\n",
       "      <td>2.165096</td>\n",
       "    </tr>\n",
       "    <tr>\n",
       "      <th>183752</th>\n",
       "      <td>75</td>\n",
       "      <td>2.050635</td>\n",
       "      <td>2.085254</td>\n",
       "      <td>2.093764</td>\n",
       "      <td>2.393773</td>\n",
       "      <td>2.091387</td>\n",
       "      <td>2.322702</td>\n",
       "      <td>2.152086</td>\n",
       "    </tr>\n",
       "  </tbody>\n",
       "</table>\n",
       "<p>57648 rows × 8 columns</p>\n",
       "</div>"
      ],
      "text/plain": [
       "        Funzionamento        P1        P2        P3        P4        P5  \\\n",
       "126105              0  2.000000  2.000000  2.000000  2.000000  2.000000   \n",
       "126106              0  2.000000  2.000000  2.000000  2.000000  2.000000   \n",
       "126107              0  2.000000  2.000000  2.000000  2.000000  2.000000   \n",
       "126108              0  2.000000  2.000000  2.000000  2.000000  2.000000   \n",
       "126109              0  2.000000  2.000000  2.000000  2.000000  2.000000   \n",
       "...               ...       ...       ...       ...       ...       ...   \n",
       "183748             75  2.018495  2.018436  2.016806  2.173387  2.032607   \n",
       "183749             75  2.038382  2.043599  2.037118  1.893917  2.074023   \n",
       "183750             75  2.047800  2.063726  2.071593  2.289380  2.106856   \n",
       "183751             75  2.052519  2.076722  2.075243  1.901218  2.104139   \n",
       "183752             75  2.050635  2.085254  2.093764  2.393773  2.091387   \n",
       "\n",
       "              P6        P7  \n",
       "126105  2.000000  2.000000  \n",
       "126106  2.000000  2.000000  \n",
       "126107  2.000000  2.000000  \n",
       "126108  2.000000  2.000000  \n",
       "126109  2.000000  2.000000  \n",
       "...          ...       ...  \n",
       "183748  1.948342  2.132867  \n",
       "183749  2.175365  2.121340  \n",
       "183750  2.223095  2.192724  \n",
       "183751  2.003143  2.165096  \n",
       "183752  2.322702  2.152086  \n",
       "\n",
       "[57648 rows x 8 columns]"
      ]
     },
     "execution_count": 2,
     "metadata": {},
     "output_type": "execute_result"
    }
   ],
   "source": [
    "#PREPARAZIONE DATASET ---> AGGIUNTA COLONNA FUNZIONAMENTO\n",
    "import pandas as pd\n",
    "x_test=pd.read_csv(r\"C:\\Users\\umber\\Desktop\\MANUTENZIONE\\dataset_test_finale.csv\")\n",
    "x_test= x_test[[\"Case\",\"P1\",\"P2\",\"P3\",\"P4\",\"P5\",\"P6\",\"P7\"]]\n",
    "# Filtro x_test solo con righe che nella classificazione erano sv_fault\n",
    "desired_values = [179, 188, 190, 202, 212, 214]\n",
    "x_test = x_test[x_test['Case'].isin(desired_values)]\n",
    "test = x_test[[\"P1\",\"P2\",\"P3\",\"P4\",\"P5\",\"P6\",\"P7\"]]\n",
    "colonna = x_test[[\"Case\"]]\n",
    "train_df = pd.read_csv(r\"C:\\Users\\umber\\Desktop\\MANUTENZIONE\\dataset_train_finale.csv\")\n",
    "train_df = train_df[[\"Condition\",\"SV1\",\"SV2\",\"SV3\",\"SV4\",\"P1\",\"P2\",\"P3\",\"P4\",\"P5\",\"P6\",\"P7\"]]\n",
    "train_df = train_df[train_df[\"Condition\"]== 'Fault']\n",
    "\n",
    "train_df['Funzionamento'] = train_df[['SV1', 'SV2', 'SV3', 'SV4']].min(axis=1)\n",
    "\n",
    "train_df = train_df[[\"Funzionamento\",\"P1\",\"P2\",\"P3\",\"P4\",\"P5\",\"P6\",\"P7\"]]\n",
    "train_df\n"
   ]
  },
  {
   "cell_type": "code",
   "execution_count": 4,
   "metadata": {},
   "outputs": [
    {
     "name": "stderr",
     "output_type": "stream",
     "text": [
      "c:\\Users\\umber\\AppData\\Local\\Programs\\Python\\Python38\\lib\\site-packages\\sklearn\\base.py:1152: DataConversionWarning: A column-vector y was passed when a 1d array was expected. Please change the shape of y to (n_samples,), for example using ravel().\n",
      "  return fit_method(estimator, *args, **kwargs)\n"
     ]
    },
    {
     "name": "stdout",
     "output_type": "stream",
     "text": [
      "              precision    recall  f1-score   support\n",
      "\n",
      "           0       0.91      0.98      0.95      2897\n",
      "          25       0.86      0.82      0.84      2897\n",
      "          50       0.80      0.78      0.79      2846\n",
      "          75       0.83      0.82      0.82      2890\n",
      "\n",
      "    accuracy                           0.85     11530\n",
      "   macro avg       0.85      0.85      0.85     11530\n",
      "weighted avg       0.85      0.85      0.85     11530\n",
      "\n"
     ]
    }
   ],
   "source": [
    "#VALUTAZIONE ALLENAMENTO\n",
    "from sklearn.model_selection import train_test_split\n",
    "from sklearn.metrics import classification_report\n",
    "from sklearn.ensemble import RandomForestClassifier\n",
    "x = train_df[[\"P1\",\"P2\",\"P3\",\"P4\",\"P5\",\"P6\",\"P7\"]]\n",
    "y = train_df[[\"Funzionamento\"]]\n",
    "x_train_sv, x_test_sv, y_train_sv, y_test_sv = train_test_split(x, y, test_size=0.2)\n",
    "model = RandomForestClassifier(random_state=42)\n",
    "model.fit(x_train_sv, y_train_sv)\n",
    "predictions = model.predict(x_test_sv)\n",
    "\n",
    "print(classification_report(y_test_sv, predictions))"
   ]
  },
  {
   "cell_type": "code",
   "execution_count": 7,
   "metadata": {},
   "outputs": [
    {
     "name": "stderr",
     "output_type": "stream",
     "text": [
      "c:\\Users\\umber\\AppData\\Local\\Programs\\Python\\Python38\\lib\\site-packages\\sklearn\\utils\\validation.py:1183: DataConversionWarning: A column-vector y was passed when a 1d array was expected. Please change the shape of y to (n_samples, ), for example using ravel().\n",
      "  y = column_or_1d(y, warn=True)\n"
     ]
    },
    {
     "name": "stdout",
     "output_type": "stream",
     "text": [
      "Logistic Regression: Accuracy = 0.24\n",
      "Decision Tree: Accuracy = 0.75\n"
     ]
    },
    {
     "name": "stderr",
     "output_type": "stream",
     "text": [
      "c:\\Users\\umber\\AppData\\Local\\Programs\\Python\\Python38\\lib\\site-packages\\sklearn\\base.py:1152: DataConversionWarning: A column-vector y was passed when a 1d array was expected. Please change the shape of y to (n_samples,), for example using ravel().\n",
      "  return fit_method(estimator, *args, **kwargs)\n"
     ]
    },
    {
     "name": "stdout",
     "output_type": "stream",
     "text": [
      "Random Forest: Accuracy = 0.85\n"
     ]
    },
    {
     "name": "stderr",
     "output_type": "stream",
     "text": [
      "c:\\Users\\umber\\AppData\\Local\\Programs\\Python\\Python38\\lib\\site-packages\\sklearn\\utils\\validation.py:1183: DataConversionWarning: A column-vector y was passed when a 1d array was expected. Please change the shape of y to (n_samples, ), for example using ravel().\n",
      "  y = column_or_1d(y, warn=True)\n"
     ]
    },
    {
     "name": "stdout",
     "output_type": "stream",
     "text": [
      "AdaBoost: Accuracy = 0.31\n"
     ]
    },
    {
     "name": "stderr",
     "output_type": "stream",
     "text": [
      "c:\\Users\\umber\\AppData\\Local\\Programs\\Python\\Python38\\lib\\site-packages\\sklearn\\ensemble\\_gb.py:424: DataConversionWarning: A column-vector y was passed when a 1d array was expected. Please change the shape of y to (n_samples, ), for example using ravel().\n",
      "  y = column_or_1d(y, warn=True)\n"
     ]
    },
    {
     "name": "stdout",
     "output_type": "stream",
     "text": [
      "Gradient Boosting: Accuracy = 0.39\n"
     ]
    },
    {
     "name": "stderr",
     "output_type": "stream",
     "text": [
      "c:\\Users\\umber\\AppData\\Local\\Programs\\Python\\Python38\\lib\\site-packages\\sklearn\\utils\\validation.py:1183: DataConversionWarning: A column-vector y was passed when a 1d array was expected. Please change the shape of y to (n_samples, ), for example using ravel().\n",
      "  y = column_or_1d(y, warn=True)\n",
      "c:\\Users\\umber\\AppData\\Local\\Programs\\Python\\Python38\\lib\\site-packages\\sklearn\\svm\\_classes.py:32: FutureWarning: The default value of `dual` will change from `True` to `'auto'` in 1.5. Set the value of `dual` explicitly to suppress the warning.\n",
      "  warnings.warn(\n",
      "c:\\Users\\umber\\AppData\\Local\\Programs\\Python\\Python38\\lib\\site-packages\\sklearn\\svm\\_base.py:1250: ConvergenceWarning: Liblinear failed to converge, increase the number of iterations.\n",
      "  warnings.warn(\n",
      "c:\\Users\\umber\\AppData\\Local\\Programs\\Python\\Python38\\lib\\site-packages\\sklearn\\neighbors\\_classification.py:233: DataConversionWarning: A column-vector y was passed when a 1d array was expected. Please change the shape of y to (n_samples,), for example using ravel().\n",
      "  return self._fit(X, y)\n"
     ]
    },
    {
     "name": "stdout",
     "output_type": "stream",
     "text": [
      "Linear SVM: Accuracy = 0.24\n",
      "K-Nearest Neighbors: Accuracy = 0.54\n",
      "Gaussian Naive Bayes: Accuracy = 0.25\n",
      "Linear Discriminant Analysis: Accuracy = 0.24\n",
      "Quadratic Discriminant Analysis: Accuracy = 0.27\n"
     ]
    },
    {
     "name": "stderr",
     "output_type": "stream",
     "text": [
      "c:\\Users\\umber\\AppData\\Local\\Programs\\Python\\Python38\\lib\\site-packages\\sklearn\\utils\\validation.py:1183: DataConversionWarning: A column-vector y was passed when a 1d array was expected. Please change the shape of y to (n_samples, ), for example using ravel().\n",
      "  y = column_or_1d(y, warn=True)\n",
      "c:\\Users\\umber\\AppData\\Local\\Programs\\Python\\Python38\\lib\\site-packages\\sklearn\\utils\\validation.py:1183: DataConversionWarning: A column-vector y was passed when a 1d array was expected. Please change the shape of y to (n_samples, ), for example using ravel().\n",
      "  y = column_or_1d(y, warn=True)\n",
      "c:\\Users\\umber\\AppData\\Local\\Programs\\Python\\Python38\\lib\\site-packages\\sklearn\\utils\\validation.py:1183: DataConversionWarning: A column-vector y was passed when a 1d array was expected. Please change the shape of y to (n_samples, ), for example using ravel().\n",
      "  y = column_or_1d(y, warn=True)\n",
      "c:\\Users\\umber\\AppData\\Local\\Programs\\Python\\Python38\\lib\\site-packages\\sklearn\\neural_network\\_multilayer_perceptron.py:1102: DataConversionWarning: A column-vector y was passed when a 1d array was expected. Please change the shape of y to (n_samples, ), for example using ravel().\n",
      "  y = column_or_1d(y, warn=True)\n"
     ]
    },
    {
     "name": "stdout",
     "output_type": "stream",
     "text": [
      "Multi-layer Perceptron: Accuracy = 0.37\n"
     ]
    },
    {
     "name": "stderr",
     "output_type": "stream",
     "text": [
      "c:\\Users\\umber\\AppData\\Local\\Programs\\Python\\Python38\\lib\\site-packages\\sklearn\\neural_network\\_multilayer_perceptron.py:691: ConvergenceWarning: Stochastic Optimizer: Maximum iterations (200) reached and the optimization hasn't converged yet.\n",
      "  warnings.warn(\n"
     ]
    }
   ],
   "source": [
    "# allenamento con diversi modelli\n",
    "from sklearn.datasets import load_iris\n",
    "from sklearn.model_selection import train_test_split\n",
    "from sklearn.linear_model import LogisticRegression\n",
    "from sklearn.tree import DecisionTreeClassifier\n",
    "from sklearn.ensemble import RandomForestClassifier, AdaBoostClassifier, GradientBoostingClassifier\n",
    "from sklearn.svm import SVC, LinearSVC\n",
    "from sklearn.neighbors import KNeighborsClassifier\n",
    "from sklearn.naive_bayes import GaussianNB\n",
    "from sklearn.discriminant_analysis import LinearDiscriminantAnalysis, QuadraticDiscriminantAnalysis\n",
    "from sklearn.neural_network import MLPClassifier\n",
    "from sklearn.metrics import accuracy_score\n",
    "\n",
    "# Divisione dei dati in set di training e test\n",
    "X_train, X_test, y_train, y_test = train_test_split(x, y, test_size=0.2, random_state=42)\n",
    "\n",
    "# Definizione dei modelli\n",
    "models = [\n",
    "    ('Logistic Regression', LogisticRegression()),\n",
    "    ('Decision Tree', DecisionTreeClassifier()),\n",
    "    ('Random Forest', RandomForestClassifier()),\n",
    "    ('AdaBoost', AdaBoostClassifier()),\n",
    "    ('Gradient Boosting', GradientBoostingClassifier()),\n",
    "    ('Linear SVM', LinearSVC()),\n",
    "    ('K-Nearest Neighbors', KNeighborsClassifier()),\n",
    "    ('Gaussian Naive Bayes', GaussianNB()),\n",
    "    ('Linear Discriminant Analysis', LinearDiscriminantAnalysis()),\n",
    "    ('Quadratic Discriminant Analysis', QuadraticDiscriminantAnalysis()),\n",
    "    ('Multi-layer Perceptron', MLPClassifier())\n",
    "]\n",
    "\n",
    "# Addestramento e valutazione dei modelli\n",
    "for model_name, model in models:\n",
    "    model.fit(X_train, y_train)\n",
    "    y_pred = model.predict(X_test)\n",
    "    accuracy = accuracy_score(y_test, y_pred)\n",
    "    print(f'{model_name}: Accuracy = {accuracy:.2f}')\n"
   ]
  },
  {
   "cell_type": "code",
   "execution_count": 1,
   "metadata": {},
   "outputs": [
    {
     "name": "stderr",
     "output_type": "stream",
     "text": [
      "c:\\Users\\umber\\AppData\\Local\\Programs\\Python\\Python38\\lib\\site-packages\\sklearn\\base.py:1152: DataConversionWarning: A column-vector y was passed when a 1d array was expected. Please change the shape of y to (n_samples,), for example using ravel().\n",
      "  return fit_method(estimator, *args, **kwargs)\n"
     ]
    },
    {
     "name": "stdout",
     "output_type": "stream",
     "text": [
      "              precision    recall  f1-score   support\n",
      "\n",
      "           0       0.99      0.99      0.99      5657\n",
      "          25       0.98      0.97      0.97      5812\n",
      "          50       0.97      0.95      0.96      5830\n",
      "          75       0.94      0.97      0.96      5761\n",
      "\n",
      "    accuracy                           0.97     23060\n",
      "   macro avg       0.97      0.97      0.97     23060\n",
      "weighted avg       0.97      0.97      0.97     23060\n",
      "\n"
     ]
    },
    {
     "data": {
      "text/plain": [
       "'\\nrf_classifier = RandomForestClassifier()\\n\\n# Esegui la cross-validation con 5 fold\\nscores = cross_val_score(rf_classifier, x, y, cv=5)\\n\\n# Stampiamo i punteggi ottenuti dalla cross-validation\\nprint(\"Punteggi della cross-validation:\", scores)\\n\\n# Calcola la media dei punteggi\\nprint(\"Media dei punteggi:\", scores.mean())\\n'"
      ]
     },
     "execution_count": 1,
     "metadata": {},
     "output_type": "execute_result"
    }
   ],
   "source": [
    "# allenamento con cross validition\n",
    "from sklearn.model_selection import cross_val_score, train_test_split\n",
    "from sklearn.metrics import classification_report\n",
    "from sklearn.ensemble import RandomForestClassifier\n",
    "import pandas as pd\n",
    "x_test=pd.read_csv(r\"C:\\Users\\umber\\Desktop\\MANUTENZIONE\\dataset_test_finale.csv\")\n",
    "x_test= x_test[[\"Case\",\"P1\",\"P2\",\"P3\",\"P4\",\"P5\",\"P6\",\"P7\"]]\n",
    "# Filtro x_test solo con righe che nella classificazione erano sv_fault\n",
    "desired_values = [179, 188, 190, 202, 214]\n",
    "x_test = x_test[x_test['Case'].isin(desired_values)]\n",
    "test = x_test[[\"P1\",\"P2\",\"P3\",\"P4\",\"P5\",\"P6\",\"P7\"]]\n",
    "colonna = x_test[[\"Case\"]]\n",
    "train_df = pd.read_csv(r\"C:\\Users\\umber\\Desktop\\MANUTENZIONE\\dataset_train_finale.csv\")\n",
    "train_df = train_df[[\"Condition\",\"SV1\",\"SV2\",\"SV3\",\"SV4\",\"P1\",\"P2\",\"P3\",\"P4\",\"P5\",\"P6\",\"P7\"]]\n",
    "train_df = train_df[train_df[\"Condition\"]== 'Fault']\n",
    "\n",
    "train_df['Funzionamento'] = train_df[['SV1', 'SV2', 'SV3', 'SV4']].min(axis=1)\n",
    "\n",
    "train_df = train_df[[\"Funzionamento\",\"P1\",\"P2\",\"P3\",\"P4\",\"P5\",\"P6\",\"P7\"]]\n",
    "train_df = pd.concat([train_df]*2, ignore_index=True)\n",
    "\n",
    "x = train_df[[\"P1\",\"P2\",\"P3\",\"P4\",\"P5\",\"P6\",\"P7\"]]\n",
    "y = train_df[[\"Funzionamento\"]]\n",
    "\n",
    "x_train_sv, x_test_sv, y_train_sv, y_test_sv = train_test_split(x, y, test_size=0.2)\n",
    "model = RandomForestClassifier(random_state=42)\n",
    "model.fit(x_train_sv, y_train_sv)\n",
    "predictions = model.predict(x_test_sv)\n",
    "\n",
    "print(classification_report(y_test_sv, predictions))\n",
    "'''\n",
    "rf_classifier = RandomForestClassifier()\n",
    "\n",
    "# Esegui la cross-validation con 5 fold\n",
    "scores = cross_val_score(rf_classifier, x, y, cv=5)\n",
    "\n",
    "# Stampiamo i punteggi ottenuti dalla cross-validation\n",
    "print(\"Punteggi della cross-validation:\", scores)\n",
    "\n",
    "# Calcola la media dei punteggi\n",
    "print(\"Media dei punteggi:\", scores.mean())\n",
    "'''"
   ]
  },
  {
   "cell_type": "code",
   "execution_count": 3,
   "metadata": {},
   "outputs": [
    {
     "name": "stderr",
     "output_type": "stream",
     "text": [
      "c:\\Users\\umber\\AppData\\Local\\Programs\\Python\\Python38\\lib\\site-packages\\sklearn\\base.py:1152: DataConversionWarning: A column-vector y was passed when a 1d array was expected. Please change the shape of y to (n_samples,), for example using ravel().\n",
      "  return fit_method(estimator, *args, **kwargs)\n"
     ]
    },
    {
     "data": {
      "text/html": [
       "<div>\n",
       "<style scoped>\n",
       "    .dataframe tbody tr th:only-of-type {\n",
       "        vertical-align: middle;\n",
       "    }\n",
       "\n",
       "    .dataframe tbody tr th {\n",
       "        vertical-align: top;\n",
       "    }\n",
       "\n",
       "    .dataframe thead th {\n",
       "        text-align: right;\n",
       "    }\n",
       "</style>\n",
       "<table border=\"1\" class=\"dataframe\">\n",
       "  <thead>\n",
       "    <tr style=\"text-align: right;\">\n",
       "      <th></th>\n",
       "      <th>Case</th>\n",
       "      <th>Prediction</th>\n",
       "    </tr>\n",
       "  </thead>\n",
       "  <tbody>\n",
       "    <tr>\n",
       "      <th>0</th>\n",
       "      <td>179</td>\n",
       "      <td>25</td>\n",
       "    </tr>\n",
       "    <tr>\n",
       "      <th>1</th>\n",
       "      <td>188</td>\n",
       "      <td>25</td>\n",
       "    </tr>\n",
       "    <tr>\n",
       "      <th>2</th>\n",
       "      <td>190</td>\n",
       "      <td>50</td>\n",
       "    </tr>\n",
       "    <tr>\n",
       "      <th>3</th>\n",
       "      <td>202</td>\n",
       "      <td>0</td>\n",
       "    </tr>\n",
       "    <tr>\n",
       "      <th>4</th>\n",
       "      <td>212</td>\n",
       "      <td>25</td>\n",
       "    </tr>\n",
       "    <tr>\n",
       "      <th>5</th>\n",
       "      <td>214</td>\n",
       "      <td>25</td>\n",
       "    </tr>\n",
       "  </tbody>\n",
       "</table>\n",
       "</div>"
      ],
      "text/plain": [
       "   Case  Prediction\n",
       "0   179          25\n",
       "1   188          25\n",
       "2   190          50\n",
       "3   202           0\n",
       "4   212          25\n",
       "5   214          25"
      ]
     },
     "execution_count": 3,
     "metadata": {},
     "output_type": "execute_result"
    }
   ],
   "source": [
    "#ALLENAMENTO E TESTING TASK 5\n",
    "from sklearn.ensemble import RandomForestClassifier\n",
    "train_df = pd.concat([train_df]*2, ignore_index=True)\n",
    "\n",
    "x = train_df[[\"P1\",\"P2\",\"P3\",\"P4\",\"P5\",\"P6\",\"P7\"]]\n",
    "y = train_df[[\"Funzionamento\"]]\n",
    "model = RandomForestClassifier(random_state=42)\n",
    "model.fit(x, y)\n",
    "predictions = model.predict(test)\n",
    "test['Prediction'] = predictions\n",
    "df_unito = pd.concat([colonna, test], axis=1)\n",
    "grouped_data = df_unito.groupby('Case')['Prediction'].apply(lambda x: x.mode().iat[0]).reset_index() # restituisce il valore più frequente (moda)\n",
    "grouped_data "
   ]
  }
 ],
 "metadata": {
  "kernelspec": {
   "display_name": "Python 3",
   "language": "python",
   "name": "python3"
  },
  "language_info": {
   "codemirror_mode": {
    "name": "ipython",
    "version": 3
   },
   "file_extension": ".py",
   "mimetype": "text/x-python",
   "name": "python",
   "nbconvert_exporter": "python",
   "pygments_lexer": "ipython3",
   "version": "3.8.0"
  }
 },
 "nbformat": 4,
 "nbformat_minor": 2
}
